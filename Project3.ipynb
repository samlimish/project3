{
 "cells": [
  {
   "cell_type": "markdown",
   "metadata": {},
   "source": [
    "# Project 3\n",
    "\n",
    "### Business Problem\n",
    "The St. Joseph public health department/clinic wants to help improve the overall health of the county's residents. Through the progression of pandemic, people's lifestyles have changed drastically with a general decrease in overall physical activity. Since the decrease in physical activity could lead to obesity, health officials are looking to see how much of the well-known factors that are associated with obesity can affect a person's obesity level. "
   ]
  },
  {
   "cell_type": "markdown",
   "metadata": {},
   "source": [
    "Veggies: 1: Never, 2: Sometimes, 3: Always<br>\n",
    "H2O: 1: Less than 1L, 2: Less than 2L, 3: More than 2L<br>\n",
    "Physical Activity: 0: None, 1: 1-2 days, 2: 2-4 days, 3: 4-5 days<br>\n",
    "Time on Devices: 0: None, 1: 2 hrs or less, 2: 3-5 hrs, 3: 5+hrs<br>"
   ]
  },
  {
   "cell_type": "code",
   "execution_count": 52,
   "metadata": {},
   "outputs": [],
   "source": [
    "import pandas as pd\n",
    "import numpy as np\n",
    "import matplotlib.pyplot as plt\n",
    "%matplotlib inline\n",
    "import statsmodels.api as sm\n",
    "\n",
    "from sklearn import metrics\n",
    "from sklearn import tree, svm\n",
    "from sklearn import preprocessing\n",
    "from sklearn.preprocessing import OneHotEncoder, StandardScaler, LabelEncoder\n",
    "from sklearn.model_selection import train_test_split, GridSearchCV, cross_val_score\n",
    "from sklearn.neighbors import NeighborhoodComponentsAnalysis, KNeighborsClassifier\n",
    "from sklearn.tree import DecisionTreeClassifier\n",
    "from sklearn.linear_model import LogisticRegression\n",
    "from sklearn.multiclass import OneVsRestClassifier\n",
    "from sklearn.metrics import accuracy_score, roc_curve, auc, roc_auc_score\n",
    "from sklearn.pipeline import Pipeline,make_pipeline\n",
    "from sklearn.svm import SVC\n",
    "\n",
    "from scipy.spatial.distance import euclidean\n",
    "from scipy import stats\n",
    "\n",
    "pd.set_option('display.max_columns', None)"
   ]
  },
  {
   "cell_type": "markdown",
   "metadata": {},
   "source": [
    "## Data Cleaning and Preparation"
   ]
  },
  {
   "cell_type": "code",
   "execution_count": 53,
   "metadata": {},
   "outputs": [
    {
     "data": {
      "text/html": [
       "<div>\n",
       "<style scoped>\n",
       "    .dataframe tbody tr th:only-of-type {\n",
       "        vertical-align: middle;\n",
       "    }\n",
       "\n",
       "    .dataframe tbody tr th {\n",
       "        vertical-align: top;\n",
       "    }\n",
       "\n",
       "    .dataframe thead th {\n",
       "        text-align: right;\n",
       "    }\n",
       "</style>\n",
       "<table border=\"1\" class=\"dataframe\">\n",
       "  <thead>\n",
       "    <tr style=\"text-align: right;\">\n",
       "      <th></th>\n",
       "      <th>Gender</th>\n",
       "      <th>Age</th>\n",
       "      <th>Height</th>\n",
       "      <th>Weight</th>\n",
       "      <th>Family_Obesity_History</th>\n",
       "      <th>Frequent_HighCalorie_Food</th>\n",
       "      <th>Veggies</th>\n",
       "      <th>Num_of_Meals</th>\n",
       "      <th>Food_btw_Meals</th>\n",
       "      <th>Smoke</th>\n",
       "      <th>H2O</th>\n",
       "      <th>Calorie_Monitor</th>\n",
       "      <th>Physical_Activity</th>\n",
       "      <th>Time_On_Devices</th>\n",
       "      <th>Alcohol_Consump</th>\n",
       "      <th>Transportation</th>\n",
       "      <th>Obesity_Level</th>\n",
       "    </tr>\n",
       "  </thead>\n",
       "  <tbody>\n",
       "    <tr>\n",
       "      <th>0</th>\n",
       "      <td>Female</td>\n",
       "      <td>21.0</td>\n",
       "      <td>1.62</td>\n",
       "      <td>64.0</td>\n",
       "      <td>yes</td>\n",
       "      <td>no</td>\n",
       "      <td>2.0</td>\n",
       "      <td>3.0</td>\n",
       "      <td>Sometimes</td>\n",
       "      <td>no</td>\n",
       "      <td>2.0</td>\n",
       "      <td>no</td>\n",
       "      <td>0.0</td>\n",
       "      <td>1.0</td>\n",
       "      <td>no</td>\n",
       "      <td>Public_Transportation</td>\n",
       "      <td>Normal_Weight</td>\n",
       "    </tr>\n",
       "    <tr>\n",
       "      <th>1</th>\n",
       "      <td>Female</td>\n",
       "      <td>21.0</td>\n",
       "      <td>1.52</td>\n",
       "      <td>56.0</td>\n",
       "      <td>yes</td>\n",
       "      <td>no</td>\n",
       "      <td>3.0</td>\n",
       "      <td>3.0</td>\n",
       "      <td>Sometimes</td>\n",
       "      <td>yes</td>\n",
       "      <td>3.0</td>\n",
       "      <td>yes</td>\n",
       "      <td>3.0</td>\n",
       "      <td>0.0</td>\n",
       "      <td>Sometimes</td>\n",
       "      <td>Public_Transportation</td>\n",
       "      <td>Normal_Weight</td>\n",
       "    </tr>\n",
       "    <tr>\n",
       "      <th>2</th>\n",
       "      <td>Male</td>\n",
       "      <td>23.0</td>\n",
       "      <td>1.80</td>\n",
       "      <td>77.0</td>\n",
       "      <td>yes</td>\n",
       "      <td>no</td>\n",
       "      <td>2.0</td>\n",
       "      <td>3.0</td>\n",
       "      <td>Sometimes</td>\n",
       "      <td>no</td>\n",
       "      <td>2.0</td>\n",
       "      <td>no</td>\n",
       "      <td>2.0</td>\n",
       "      <td>1.0</td>\n",
       "      <td>Frequently</td>\n",
       "      <td>Public_Transportation</td>\n",
       "      <td>Normal_Weight</td>\n",
       "    </tr>\n",
       "    <tr>\n",
       "      <th>3</th>\n",
       "      <td>Male</td>\n",
       "      <td>27.0</td>\n",
       "      <td>1.80</td>\n",
       "      <td>87.0</td>\n",
       "      <td>no</td>\n",
       "      <td>no</td>\n",
       "      <td>3.0</td>\n",
       "      <td>3.0</td>\n",
       "      <td>Sometimes</td>\n",
       "      <td>no</td>\n",
       "      <td>2.0</td>\n",
       "      <td>no</td>\n",
       "      <td>2.0</td>\n",
       "      <td>0.0</td>\n",
       "      <td>Frequently</td>\n",
       "      <td>Walking</td>\n",
       "      <td>Overweight_Level_I</td>\n",
       "    </tr>\n",
       "    <tr>\n",
       "      <th>4</th>\n",
       "      <td>Male</td>\n",
       "      <td>22.0</td>\n",
       "      <td>1.78</td>\n",
       "      <td>89.8</td>\n",
       "      <td>no</td>\n",
       "      <td>no</td>\n",
       "      <td>2.0</td>\n",
       "      <td>1.0</td>\n",
       "      <td>Sometimes</td>\n",
       "      <td>no</td>\n",
       "      <td>2.0</td>\n",
       "      <td>no</td>\n",
       "      <td>0.0</td>\n",
       "      <td>0.0</td>\n",
       "      <td>Sometimes</td>\n",
       "      <td>Public_Transportation</td>\n",
       "      <td>Overweight_Level_II</td>\n",
       "    </tr>\n",
       "  </tbody>\n",
       "</table>\n",
       "</div>"
      ],
      "text/plain": [
       "   Gender   Age  Height  Weight Family_Obesity_History  \\\n",
       "0  Female  21.0    1.62    64.0                    yes   \n",
       "1  Female  21.0    1.52    56.0                    yes   \n",
       "2    Male  23.0    1.80    77.0                    yes   \n",
       "3    Male  27.0    1.80    87.0                     no   \n",
       "4    Male  22.0    1.78    89.8                     no   \n",
       "\n",
       "  Frequent_HighCalorie_Food  Veggies  Num_of_Meals Food_btw_Meals Smoke  H2O  \\\n",
       "0                        no      2.0           3.0      Sometimes    no  2.0   \n",
       "1                        no      3.0           3.0      Sometimes   yes  3.0   \n",
       "2                        no      2.0           3.0      Sometimes    no  2.0   \n",
       "3                        no      3.0           3.0      Sometimes    no  2.0   \n",
       "4                        no      2.0           1.0      Sometimes    no  2.0   \n",
       "\n",
       "  Calorie_Monitor  Physical_Activity  Time_On_Devices Alcohol_Consump  \\\n",
       "0              no                0.0              1.0              no   \n",
       "1             yes                3.0              0.0       Sometimes   \n",
       "2              no                2.0              1.0      Frequently   \n",
       "3              no                2.0              0.0      Frequently   \n",
       "4              no                0.0              0.0       Sometimes   \n",
       "\n",
       "          Transportation        Obesity_Level  \n",
       "0  Public_Transportation        Normal_Weight  \n",
       "1  Public_Transportation        Normal_Weight  \n",
       "2  Public_Transportation        Normal_Weight  \n",
       "3                Walking   Overweight_Level_I  \n",
       "4  Public_Transportation  Overweight_Level_II  "
      ]
     },
     "execution_count": 53,
     "metadata": {},
     "output_type": "execute_result"
    }
   ],
   "source": [
    "obesity=pd.read_csv('data/ObesityDataSet_raw_and_data_sinthetic.csv', header=0)\n",
    "obesity.head()"
   ]
  },
  {
   "cell_type": "markdown",
   "metadata": {},
   "source": [
    "The data itself did not have any missing values, so it was unneccessary to drop any of them initially"
   ]
  },
  {
   "cell_type": "code",
   "execution_count": 54,
   "metadata": {},
   "outputs": [
    {
     "name": "stdout",
     "output_type": "stream",
     "text": [
      "2111\n"
     ]
    },
    {
     "data": {
      "text/plain": [
       "Gender                       0\n",
       "Age                          0\n",
       "Height                       0\n",
       "Weight                       0\n",
       "Family_Obesity_History       0\n",
       "Frequent_HighCalorie_Food    0\n",
       "Veggies                      0\n",
       "Num_of_Meals                 0\n",
       "Food_btw_Meals               0\n",
       "Smoke                        0\n",
       "H2O                          0\n",
       "Calorie_Monitor              0\n",
       "Physical_Activity            0\n",
       "Time_On_Devices              0\n",
       "Alcohol_Consump              0\n",
       "Transportation               0\n",
       "Obesity_Level                0\n",
       "dtype: int64"
      ]
     },
     "execution_count": 54,
     "metadata": {},
     "output_type": "execute_result"
    }
   ],
   "source": [
    "print(len(obesity))\n",
    "obesity.isna().sum()"
   ]
  },
  {
   "cell_type": "code",
   "execution_count": 55,
   "metadata": {},
   "outputs": [
    {
     "data": {
      "text/plain": [
       "Gender                          2\n",
       "Age                          1402\n",
       "Height                       1574\n",
       "Weight                       1525\n",
       "Family_Obesity_History          2\n",
       "Frequent_HighCalorie_Food       2\n",
       "Veggies                       810\n",
       "Num_of_Meals                  635\n",
       "Food_btw_Meals                  4\n",
       "Smoke                           2\n",
       "H2O                          1268\n",
       "Calorie_Monitor                 2\n",
       "Physical_Activity            1190\n",
       "Time_On_Devices              1129\n",
       "Alcohol_Consump                 4\n",
       "Transportation                  5\n",
       "Obesity_Level                   7\n",
       "dtype: int64"
      ]
     },
     "execution_count": 55,
     "metadata": {},
     "output_type": "execute_result"
    }
   ],
   "source": [
    "obesity.nunique()"
   ]
  },
  {
   "cell_type": "code",
   "execution_count": 56,
   "metadata": {},
   "outputs": [],
   "source": [
    "obesity['Age']=obesity['Age'].astype('float')"
   ]
  },
  {
   "cell_type": "code",
   "execution_count": 57,
   "metadata": {},
   "outputs": [
    {
     "data": {
      "text/html": [
       "<div>\n",
       "<style scoped>\n",
       "    .dataframe tbody tr th:only-of-type {\n",
       "        vertical-align: middle;\n",
       "    }\n",
       "\n",
       "    .dataframe tbody tr th {\n",
       "        vertical-align: top;\n",
       "    }\n",
       "\n",
       "    .dataframe thead th {\n",
       "        text-align: right;\n",
       "    }\n",
       "</style>\n",
       "<table border=\"1\" class=\"dataframe\">\n",
       "  <thead>\n",
       "    <tr style=\"text-align: right;\">\n",
       "      <th></th>\n",
       "      <th>Gender</th>\n",
       "      <th>Age</th>\n",
       "      <th>Height</th>\n",
       "      <th>Weight</th>\n",
       "      <th>Family_Obesity_History</th>\n",
       "      <th>Frequent_HighCalorie_Food</th>\n",
       "      <th>Veggies</th>\n",
       "      <th>Num_of_Meals</th>\n",
       "      <th>Food_btw_Meals</th>\n",
       "      <th>Smoke</th>\n",
       "      <th>H2O</th>\n",
       "      <th>Calorie_Monitor</th>\n",
       "      <th>Physical_Activity</th>\n",
       "      <th>Time_On_Devices</th>\n",
       "      <th>Alcohol_Consump</th>\n",
       "      <th>Transportation</th>\n",
       "      <th>Obesity_Level</th>\n",
       "    </tr>\n",
       "  </thead>\n",
       "  <tbody>\n",
       "    <tr>\n",
       "      <th>0</th>\n",
       "      <td>Female</td>\n",
       "      <td>21.0</td>\n",
       "      <td>1.62</td>\n",
       "      <td>64.0</td>\n",
       "      <td>yes</td>\n",
       "      <td>no</td>\n",
       "      <td>2.0</td>\n",
       "      <td>3.0</td>\n",
       "      <td>Sometimes</td>\n",
       "      <td>no</td>\n",
       "      <td>2.0</td>\n",
       "      <td>no</td>\n",
       "      <td>0.0</td>\n",
       "      <td>1.0</td>\n",
       "      <td>no</td>\n",
       "      <td>Public_Transportation</td>\n",
       "      <td>Normal_Weight</td>\n",
       "    </tr>\n",
       "    <tr>\n",
       "      <th>1</th>\n",
       "      <td>Female</td>\n",
       "      <td>21.0</td>\n",
       "      <td>1.52</td>\n",
       "      <td>56.0</td>\n",
       "      <td>yes</td>\n",
       "      <td>no</td>\n",
       "      <td>3.0</td>\n",
       "      <td>3.0</td>\n",
       "      <td>Sometimes</td>\n",
       "      <td>yes</td>\n",
       "      <td>3.0</td>\n",
       "      <td>yes</td>\n",
       "      <td>3.0</td>\n",
       "      <td>0.0</td>\n",
       "      <td>Sometimes</td>\n",
       "      <td>Public_Transportation</td>\n",
       "      <td>Normal_Weight</td>\n",
       "    </tr>\n",
       "    <tr>\n",
       "      <th>2</th>\n",
       "      <td>Male</td>\n",
       "      <td>23.0</td>\n",
       "      <td>1.80</td>\n",
       "      <td>77.0</td>\n",
       "      <td>yes</td>\n",
       "      <td>no</td>\n",
       "      <td>2.0</td>\n",
       "      <td>3.0</td>\n",
       "      <td>Sometimes</td>\n",
       "      <td>no</td>\n",
       "      <td>2.0</td>\n",
       "      <td>no</td>\n",
       "      <td>2.0</td>\n",
       "      <td>1.0</td>\n",
       "      <td>Frequently</td>\n",
       "      <td>Public_Transportation</td>\n",
       "      <td>Normal_Weight</td>\n",
       "    </tr>\n",
       "    <tr>\n",
       "      <th>3</th>\n",
       "      <td>Male</td>\n",
       "      <td>27.0</td>\n",
       "      <td>1.80</td>\n",
       "      <td>87.0</td>\n",
       "      <td>no</td>\n",
       "      <td>no</td>\n",
       "      <td>3.0</td>\n",
       "      <td>3.0</td>\n",
       "      <td>Sometimes</td>\n",
       "      <td>no</td>\n",
       "      <td>2.0</td>\n",
       "      <td>no</td>\n",
       "      <td>2.0</td>\n",
       "      <td>0.0</td>\n",
       "      <td>Frequently</td>\n",
       "      <td>Walking</td>\n",
       "      <td>Overweight_Level_I</td>\n",
       "    </tr>\n",
       "    <tr>\n",
       "      <th>4</th>\n",
       "      <td>Male</td>\n",
       "      <td>22.0</td>\n",
       "      <td>1.78</td>\n",
       "      <td>89.8</td>\n",
       "      <td>no</td>\n",
       "      <td>no</td>\n",
       "      <td>2.0</td>\n",
       "      <td>1.0</td>\n",
       "      <td>Sometimes</td>\n",
       "      <td>no</td>\n",
       "      <td>2.0</td>\n",
       "      <td>no</td>\n",
       "      <td>0.0</td>\n",
       "      <td>0.0</td>\n",
       "      <td>Sometimes</td>\n",
       "      <td>Public_Transportation</td>\n",
       "      <td>Overweight_Level_II</td>\n",
       "    </tr>\n",
       "  </tbody>\n",
       "</table>\n",
       "</div>"
      ],
      "text/plain": [
       "   Gender   Age  Height  Weight Family_Obesity_History  \\\n",
       "0  Female  21.0    1.62    64.0                    yes   \n",
       "1  Female  21.0    1.52    56.0                    yes   \n",
       "2    Male  23.0    1.80    77.0                    yes   \n",
       "3    Male  27.0    1.80    87.0                     no   \n",
       "4    Male  22.0    1.78    89.8                     no   \n",
       "\n",
       "  Frequent_HighCalorie_Food  Veggies  Num_of_Meals Food_btw_Meals Smoke  H2O  \\\n",
       "0                        no      2.0           3.0      Sometimes    no  2.0   \n",
       "1                        no      3.0           3.0      Sometimes   yes  3.0   \n",
       "2                        no      2.0           3.0      Sometimes    no  2.0   \n",
       "3                        no      3.0           3.0      Sometimes    no  2.0   \n",
       "4                        no      2.0           1.0      Sometimes    no  2.0   \n",
       "\n",
       "  Calorie_Monitor  Physical_Activity  Time_On_Devices Alcohol_Consump  \\\n",
       "0              no                0.0              1.0              no   \n",
       "1             yes                3.0              0.0       Sometimes   \n",
       "2              no                2.0              1.0      Frequently   \n",
       "3              no                2.0              0.0      Frequently   \n",
       "4              no                0.0              0.0       Sometimes   \n",
       "\n",
       "          Transportation        Obesity_Level  \n",
       "0  Public_Transportation        Normal_Weight  \n",
       "1  Public_Transportation        Normal_Weight  \n",
       "2  Public_Transportation        Normal_Weight  \n",
       "3                Walking   Overweight_Level_I  \n",
       "4  Public_Transportation  Overweight_Level_II  "
      ]
     },
     "execution_count": 57,
     "metadata": {},
     "output_type": "execute_result"
    }
   ],
   "source": [
    "obesity.head()"
   ]
  },
  {
   "cell_type": "markdown",
   "metadata": {},
   "source": [
    "Before doing the train test split, I had to clean some of the categorical variables and the numerical varaibles. Because the dataset description had stated that variables such as Veggies, Num_of_Meals, H20, etc were categorical, I had to round the float numbers so that it represented the correct category. After the floats were rounded, I noticed that only one person had an alcohol consumption level of always. Because he was the only one who had such alcohol consumption level, I deemed it as an outlier and dropped it. This was also necessary because only one of either the test or training data set would contain this person, and therefore, the number of columns after one hot encoding would be different from each other."
   ]
  },
  {
   "cell_type": "code",
   "execution_count": 58,
   "metadata": {},
   "outputs": [],
   "source": [
    "# while it is a better practice to adjust the data after train test split, I am only rounding these numerical values\n",
    "# because 1. it only changes the values to a whole number or other integers that fit the data description\n",
    "# 2. because it would be the same if the data were changed after train test splitting, but would just be additional\n",
    "# lines of unneccessary code\n",
    "obesity['Age']=round(obesity['Age'],1)\n",
    "obesity['Height']=round(obesity['Height'],2)\n",
    "obesity['Weight']=round(obesity['Weight'],1)\n",
    "obesity['Veggies']=round(obesity['Veggies'],0)\n",
    "obesity['Num_of_Meals']=round(obesity['Num_of_Meals'],0)\n",
    "obesity['H2O']=round(obesity['H2O'],0)\n",
    "obesity['Physical_Activity']=round(obesity['Physical_Activity'],0)\n",
    "obesity['Time_On_Devices']=round(obesity['Time_On_Devices'],0)"
   ]
  },
  {
   "cell_type": "code",
   "execution_count": 59,
   "metadata": {},
   "outputs": [],
   "source": [
    "# Here I am dropping a single row that had an 'Always' on Alcohol_Consump because there was only 1\n",
    "# person from the entire data. This later threw off X_train and X_test because there was only 1 person\n",
    "# that always drank alcohol; therefore, could not compare the two splits\n",
    "obesity.loc[obesity['Alcohol_Consump']==\"Always\"]\n",
    "obesity=obesity.drop(labels=26)"
   ]
  },
  {
   "cell_type": "code",
   "execution_count": 67,
   "metadata": {},
   "outputs": [
    {
     "data": {
      "text/plain": [
       "zObesity_Type_I        351\n",
       "zObesity_Type_III      324\n",
       "zObesity_Type_II       297\n",
       "Overweight_Level_I     290\n",
       "Overweight_Level_II    290\n",
       "Normal_Weight          286\n",
       "Insufficient_Weight    272\n",
       "Name: Obesity_Level, dtype: int64"
      ]
     },
     "execution_count": 67,
     "metadata": {},
     "output_type": "execute_result"
    }
   ],
   "source": [
    "obesity['Obesity_Level'].value_counts()"
   ]
  },
  {
   "cell_type": "code",
   "execution_count": 61,
   "metadata": {},
   "outputs": [],
   "source": [
    "# obesity.loc[obesity['Obesity_Level']=='Insufficient_Weight' ]='Normal_Weight' \n",
    "# obesity.loc[obesity['Obesity_Level']=='Overweight_Level_I' ]='Normal_Weight' \n",
    "# obesity.loc[obesity['Obesity_Level']=='Overweight_Level_II' ]='Obese' \n",
    "# obesity.loc[obesity['Obesity_Level']=='Overweight_Level_I' ]='Obese' \n",
    "# obesity.loc[obesity['Obesity_Level']=='Overweight_Level_I' ]='Obese' \n",
    "# obesity.loc[obesity['Obesity_Level']=='Overweight_Level_I' ]='Obese' "
   ]
  },
  {
   "cell_type": "markdown",
   "metadata": {},
   "source": [
    "After the initial data prepping, train test split was performed"
   ]
  },
  {
   "cell_type": "code",
   "execution_count": 70,
   "metadata": {},
   "outputs": [
    {
     "data": {
      "text/plain": [
       "{'Insufficient_Weight': 'Normal_Weight',\n",
       " 'Overweight_Level_I': 'Overweight',\n",
       " 'Normal_Weight': 'Normal_Weight',\n",
       " 'Overweight_Level_II': 'Overweight',\n",
       " 'zObesity_Type_I': 'Obese',\n",
       " 'zObesity_Type_II': 'Obese',\n",
       " 'zObesity_Type_III': 'Obese'}"
      ]
     },
     "execution_count": 70,
     "metadata": {},
     "output_type": "execute_result"
    }
   ],
   "source": [
    "weight_dict={'Insufficient_Weight': 'Normal_Weight',\n",
    "             'Overweight_Level_I': 'Overweight', \n",
    "             'Normal_Weight': 'Normal_Weight',\n",
    "             'Overweight_Level_II': 'Overweight', \n",
    "             'zObesity_Type_I': 'Obese', \n",
    "             'zObesity_Type_II': 'Obese', \n",
    "             'zObesity_Type_III': 'Obese'}\n",
    "\n",
    "weight_dict"
   ]
  },
  {
   "cell_type": "code",
   "execution_count": 86,
   "metadata": {},
   "outputs": [
    {
     "data": {
      "text/plain": [
       "Obese            972\n",
       "Overweight       580\n",
       "Normal_Weight    558\n",
       "Name: Obesity_Level, dtype: int64"
      ]
     },
     "execution_count": 86,
     "metadata": {},
     "output_type": "execute_result"
    }
   ],
   "source": [
    "obesity['Obesity_Level']=obesity['Obesity_Level'].replace(weight_dict)\n",
    "obesity['Obesity_Level'].value_counts()"
   ]
  },
  {
   "cell_type": "code",
   "execution_count": 93,
   "metadata": {},
   "outputs": [
    {
     "data": {
      "text/plain": [
       "['Normal_Weight', 'Overweight', 'Obese']"
      ]
     },
     "execution_count": 93,
     "metadata": {},
     "output_type": "execute_result"
    }
   ],
   "source": [
    "cat_dict={'Normal_Weight':0,\n",
    "         'Overweight': 1,\n",
    "         'Obese': 2}\n"
   ]
  },
  {
   "cell_type": "code",
   "execution_count": 102,
   "metadata": {},
   "outputs": [
    {
     "data": {
      "text/plain": [
       "2    0.466486\n",
       "1    0.274204\n",
       "0    0.259309\n",
       "Name: Obesity_Level, dtype: float64"
      ]
     },
     "execution_count": 102,
     "metadata": {},
     "output_type": "execute_result"
    }
   ],
   "source": [
    "#Train test split\n",
    "X=obesity.drop(columns=['Obesity_Level', 'Weight','Height'])\n",
    "y=obesity['Obesity_Level'].map(cat_dict)\n",
    "X_train, X_test, y_train, y_test = train_test_split(X, y, test_size = 0.3, random_state = 11)\n",
    "y_train.value_counts(normalize=True)"
   ]
  },
  {
   "cell_type": "markdown",
   "metadata": {},
   "source": [
    "In order to only encode the categorical variables, column names were specified, and since the dependent(outcome) variables were also categorical, they were label encoded."
   ]
  },
  {
   "cell_type": "code",
   "execution_count": 103,
   "metadata": {},
   "outputs": [
    {
     "name": "stdout",
     "output_type": "stream",
     "text": [
      "Index(['Age', 'Gender_Male', 'Family_Obesity_History_yes',\n",
      "       'Frequent_HighCalorie_Food_yes', 'Veggies_2.0', 'Veggies_3.0',\n",
      "       'Num_of_Meals_2.0', 'Num_of_Meals_3.0', 'Num_of_Meals_4.0',\n",
      "       'Food_btw_Meals_Frequently', 'Food_btw_Meals_Sometimes',\n",
      "       'Food_btw_Meals_no', 'Smoke_yes', 'H2O_2.0', 'H2O_3.0',\n",
      "       'Calorie_Monitor_yes', 'Physical_Activity_1.0', 'Physical_Activity_2.0',\n",
      "       'Physical_Activity_3.0', 'Time_On_Devices_1.0', 'Time_On_Devices_2.0',\n",
      "       'Alcohol_Consump_Sometimes', 'Alcohol_Consump_no',\n",
      "       'Transportation_Bike', 'Transportation_Motorbike',\n",
      "       'Transportation_Public_Transportation', 'Transportation_Walking'],\n",
      "      dtype='object')\n"
     ]
    }
   ],
   "source": [
    "# One hot encoder\n",
    "# instead of using the actual one hot encoder, I've decided to use get_dummies because three of the columns are not categorical\n",
    "columns= ['Gender', 'Family_Obesity_History','Frequent_HighCalorie_Food','Veggies','Num_of_Meals',\n",
    "                        'Food_btw_Meals','Smoke','H2O','Calorie_Monitor','Physical_Activity','Time_On_Devices',\n",
    "                        'Alcohol_Consump','Transportation']\n",
    "X_train_ohe =pd.get_dummies(X_train, columns= columns, drop_first=True)\n",
    "X_test_ohe = pd.get_dummies(X_test, columns= columns, drop_first=True)\n",
    "print(X_test_ohe.columns)\n",
    "# print(X_train_ohe.columns)"
   ]
  },
  {
   "cell_type": "code",
   "execution_count": 81,
   "metadata": {},
   "outputs": [
    {
     "data": {
      "text/plain": [
       "array(['Normal_Weight', 'Obese', 'Overweight'], dtype=object)"
      ]
     },
     "execution_count": 81,
     "metadata": {},
     "output_type": "execute_result"
    }
   ],
   "source": [
    "#Label Encoder for y. Fit transforming so that it is in array form\n",
    "# le=LabelEncoder()\n",
    "# y_train_le =le.fit_transform(y_train)\n",
    "# y_test_le = le.transform(y_test)\n",
    "# le.inverse_transform(np.unique(y_train_le))#.value_counts(1)\n",
    "# reduce overall number of columns to less than 4 combine not drop"
   ]
  },
  {
   "cell_type": "markdown",
   "metadata": {},
   "source": [
    "## Decision Tree\n",
    "\n",
    "The first type of modeling that I used was the decision tree."
   ]
  },
  {
   "cell_type": "code",
   "execution_count": 104,
   "metadata": {},
   "outputs": [
    {
     "data": {
      "text/plain": [
       "DecisionTreeClassifier(criterion='entropy')"
      ]
     },
     "execution_count": 104,
     "metadata": {},
     "output_type": "execute_result"
    }
   ],
   "source": [
    "dtree=DecisionTreeClassifier(criterion='entropy')\n",
    "dtree.fit(X_train_ohe, y_train)"
   ]
  },
  {
   "cell_type": "code",
   "execution_count": 90,
   "metadata": {},
   "outputs": [],
   "source": [
    "# y_hat_train = dtree.predict(X_train_ohe)\n",
    "# y_hat_test = dtree.predict(X_test_ohe)\n",
    "\n",
    "# print(metrics.classification_report(y_test, y_hat_test))\n",
    "# fig, ax= plt.subplots(figsize=(6,6))\n",
    "# metrics.plot_confusion_matrix(dtree, X_test_ohe, y_test_le, cmap='Blues', normalize='true', \n",
    "#                              display_labels=list(le.inverse_transform([0, 1, 2, 3, 4, 5, 6])), ax=ax)\n",
    "# plt.xticks(rotation=45)\n",
    "# print(f'Training Score: {round(dtree.score(X_train_ohe, y_train_le), 2)}')\n",
    "# print(f'Test Score: {round(dtree.score(X_test_ohe, y_test_le), 2)}')\n"
   ]
  },
  {
   "cell_type": "code",
   "execution_count": 105,
   "metadata": {},
   "outputs": [],
   "source": [
    "# label=list(le.inverse_transform([0, 1, 2, 3, 4, 5, 6]))\n",
    "label=list(cat_dict.keys())\n",
    "def model_score(model,X_train, X_test, y_train, y_test, label=None ):\n",
    "    y_hat_train = model.predict(X_train)\n",
    "    y_hat_test = model.predict(X_test)\n",
    "\n",
    "    print(metrics.classification_report(y_test, y_hat_test, target_names=label))\n",
    "    fig, ax= plt.subplots(figsize=(6,6))\n",
    "    metrics.plot_confusion_matrix(model, X_test, y_test, cmap='Blues', normalize='true', \n",
    "                                 display_labels= label, ax=ax)\n",
    "    plt.xticks(rotation=45)\n",
    "    print(f'Training Score: {round(model.score(X_train, y_train), 2)}')\n",
    "    print(f'Test Score: {round(model.score(X_test, y_test), 2)}')\n"
   ]
  },
  {
   "cell_type": "code",
   "execution_count": 106,
   "metadata": {},
   "outputs": [
    {
     "name": "stdout",
     "output_type": "stream",
     "text": [
      "               precision    recall  f1-score   support\n",
      "\n",
      "Normal_Weight       0.77      0.83      0.80       175\n",
      "   Overweight       0.69      0.61      0.65       175\n",
      "        Obese       0.83      0.85      0.84       283\n",
      "\n",
      "     accuracy                           0.78       633\n",
      "    macro avg       0.76      0.76      0.76       633\n",
      " weighted avg       0.78      0.78      0.78       633\n",
      "\n",
      "Training Score: 1.0\n",
      "Test Score: 0.78\n"
     ]
    },
    {
     "data": {
      "image/png": "[encoded data removed]",
      "text/plain": [
       "<Figure size 432x432 with 2 Axes>"
      ]
     },
     "metadata": {
      "needs_background": "light"
     },
     "output_type": "display_data"
    }
   ],
   "source": [
    "model_score(dtree, X_train_ohe, X_test_ohe, y_train, y_test, label=label)"
   ]
  },
  {
   "cell_type": "code",
   "execution_count": 111,
   "metadata": {},
   "outputs": [
    {
     "data": {
      "text/plain": [
       "<AxesSubplot:>"
      ]
     },
     "execution_count": 111,
     "metadata": {},
     "output_type": "execute_result"
    },
    {
     "data": {
      "image/png": "[encoded data removed]",
      "text/plain": [
       "<Figure size 432x288 with 1 Axes>"
      ]
     },
     "metadata": {
      "needs_background": "light"
     },
     "output_type": "display_data"
    }
   ],
   "source": [
    "importances=pd.Series(dtree.feature_importances_, index=X_train_ohe.columns)\n",
    "importances.sort_values(ascending=True).plot(kind='barh')\n",
    "\n",
    "#do this for logi regress"
   ]
  },
  {
   "cell_type": "code",
   "execution_count": null,
   "metadata": {},
   "outputs": [],
   "source": [
    "def get_coef(model, X, i=0):\n",
    "    df=pd.DataFrame()\n",
    "    coef= pd.Series(model.coef_[i:i+1].flatten(), index=X.columns)#, name=f'Series{i,i+1}')\n",
    "    coef['intercept']= model.intercept_[0]\n",
    "    return coef"
   ]
  },
  {
   "cell_type": "code",
   "execution_count": null,
   "metadata": {},
   "outputs": [],
   "source": [
    "fig=plt.subplots(nrows=1, ncols=1, figsize=(7, 7), dpi=350)\n",
    "tree_plot=tree.plot_tree(dtree, feature_names=X_train_ohe.columns, class_names=np.unique(y_train_le).astype('str'), filled=True)\n",
    "plt.show()\n",
    "# find accuracy/precision of this"
   ]
  },
  {
   "cell_type": "markdown",
   "metadata": {},
   "source": [
    "### Grid Search CV\n",
    "\n",
    "In order to find which parameters were best for the decision tree above. Here we see that a criterion of entropy, max_depth of 11, and min samples leaf and split of 1 and 2 respectively are the best parameters for the Decision Tree."
   ]
  },
  {
   "cell_type": "code",
   "execution_count": null,
   "metadata": {
    "scrolled": true
   },
   "outputs": [],
   "source": [
    "param_grid = {\n",
    "    'criterion': ['gini', 'entropy'],\n",
    "    'max_depth': [ 9, 10, 11, 15, 17],\n",
    "    'min_samples_split': [1, 2, 3, 5],\n",
    "    'min_samples_leaf': [1, 5]\n",
    "}\n",
    "\n",
    "gs_tree = GridSearchCV(dtree, param_grid, cv=3)\n",
    "gs_tree.fit(X_train_norm, y_train_le)\n",
    "\n",
    "gs_tree.best_params_\n",
    "\n",
    "#make the model AGAIN using these criterions to show these are actually better "
   ]
  },
  {
   "cell_type": "markdown",
   "metadata": {},
   "source": [
    "### Standard Scaler\n",
    "\n",
    "In order to use the K nearest neighbors classifier and logistic regression, the numerical variables had to be scaled down. To avoid having the categorical variables scaled as well, column names are specified"
   ]
  },
  {
   "cell_type": "code",
   "execution_count": 114,
   "metadata": {},
   "outputs": [],
   "source": [
    "#Standard Scaler\n",
    "scaler=StandardScaler()\n",
    "cols=['Age']\n",
    "# columns that need to be scaled are labeled so that categorical data isn't scaled as well\n",
    "# for i in cols:\n",
    "scale = scaler.fit(X_train_ohe[cols])\n",
    "# scale inversetransform to get data back\n",
    "\n",
    "\n",
    "# transform the training data columns\n",
    "X_train_ohe[cols] = scale.transform(X_train_ohe[cols])\n",
    "# transform the testing data columns\n",
    "X_test_ohe[cols] = scale.transform(X_test_ohe[cols])"
   ]
  },
  {
   "cell_type": "markdown",
   "metadata": {},
   "source": [
    "## K-Nearest-Neighbors\n",
    "\n",
    "Using the KNN classifier, we are able to determine the accuracy scores of our model. We can observe that as the weight level becomes more normal, the accuracy of our predictions become lower, and as we go towards the extremes of the weight level, our predictions become much more accurate. "
   ]
  },
  {
   "cell_type": "code",
   "execution_count": 109,
   "metadata": {},
   "outputs": [
    {
     "name": "stdout",
     "output_type": "stream",
     "text": [
      "              precision    recall  f1-score   support\n",
      "\n",
      "           0       0.84      0.72      0.78       175\n",
      "           1       0.67      0.54      0.60       175\n",
      "           2       0.75      0.91      0.83       283\n",
      "\n",
      "    accuracy                           0.76       633\n",
      "   macro avg       0.76      0.72      0.73       633\n",
      "weighted avg       0.76      0.76      0.75       633\n",
      "\n",
      "Training Score: 0.84\n",
      "Test Score: 0.76\n"
     ]
    },
    {
     "data": {
      "image/png": "[encoded data removed]",
      "text/plain": [
       "<Figure size 432x432 with 2 Axes>"
      ]
     },
     "metadata": {
      "needs_background": "light"
     },
     "output_type": "display_data"
    }
   ],
   "source": [
    "# K Nearest Neighbors\n",
    "knn=KNeighborsClassifier()\n",
    "knn.fit(X_train_ohe, y_train)\n",
    "# pred= knn.predict(X_test_ohe)\n",
    "# instead of finding out the individual scores, I used the classification report from the metrics\n",
    "# to find all scores\n",
    "model_score(knn, X_train_ohe, X_test_ohe, y_train, y_test)\n",
    "#show classification report for all models"
   ]
  },
  {
   "cell_type": "code",
   "execution_count": null,
   "metadata": {},
   "outputs": [],
   "source": [
    "# Because y columns were label encoded, this is to show which number corresponds to\n",
    "# individual obesity levels\n",
    "list(le.inverse_transform([0, 1, 2, 3, 4, 5, 6]))\n",
    "\n",
    "\n",
    "#max dictionaries mat"
   ]
  },
  {
   "cell_type": "markdown",
   "metadata": {},
   "source": [
    "### Normalization\n",
    "\n",
    "Even after our data had been scaled, logistic regression requires that our variables be between 0 and 1. Because of this, we have to normalize our data by subtracting the smallest value of the variable from the current variable and dividing the difference by the largest value of the variable minus the smallest value of the variable."
   ]
  },
  {
   "cell_type": "code",
   "execution_count": null,
   "metadata": {},
   "outputs": [],
   "source": [
    "# normalization\n",
    "# use MINMAX scaler not this\n",
    "# refer to standardscaler \n",
    "X_train_norm= X_train_ohe.copy()\n",
    "X_test_norm = X_test_ohe.copy()\n",
    "\n",
    "for i in X_train_norm.columns:\n",
    "    X_train_norm[i] = (X_train_norm[i] - min(X_train_norm[i]))/ (max(X_train_norm[i]) - min(X_train_norm[i]))\n",
    "    X_test_norm[i] = (X_test_norm[i] - min(X_test_norm[i]))/ (max(X_test_norm[i]) - min(X_test_norm[i]))\n"
   ]
  },
  {
   "cell_type": "markdown",
   "metadata": {},
   "source": [
    "## Logistic Regression\n",
    "\n"
   ]
  },
  {
   "cell_type": "code",
   "execution_count": 115,
   "metadata": {},
   "outputs": [
    {
     "name": "stdout",
     "output_type": "stream",
     "text": [
      "              precision    recall  f1-score   support\n",
      "\n",
      "           0       0.78      0.75      0.76       175\n",
      "           1       0.53      0.31      0.39       175\n",
      "           2       0.69      0.89      0.78       283\n",
      "\n",
      "    accuracy                           0.69       633\n",
      "   macro avg       0.67      0.65      0.64       633\n",
      "weighted avg       0.67      0.69      0.67       633\n",
      "\n",
      "Training Score: 0.73\n",
      "Test Score: 0.69\n"
     ]
    },
    {
     "name": "stderr",
     "output_type": "stream",
     "text": [
      "F:\\Anaconda3\\envs\\learn-env\\lib\\site-packages\\sklearn\\linear_model\\_sag.py:328: ConvergenceWarning: The max_iter was reached which means the coef_ did not converge\n",
      "  warnings.warn(\"The max_iter was reached which means \"\n"
     ]
    },
    {
     "data": {
      "image/png": "[encoded data removed]",
      "text/plain": [
       "<Figure size 432x432 with 2 Axes>"
      ]
     },
     "metadata": {
      "needs_background": "light"
     },
     "output_type": "display_data"
    }
   ],
   "source": [
    "# logistic regression\n",
    "log = LogisticRegression(C=1e9, solver='saga', multi_class='multinomial')\n",
    "log.fit(X_train_ohe, y_train)\n",
    "model_score(log, X_train_ohe, X_test_ohe, y_train, y_test)\n",
    "# log_model=log.fit(X_train_norm, y_train_le)\n",
    "# log_model"
   ]
  },
  {
   "cell_type": "code",
   "execution_count": 120,
   "metadata": {},
   "outputs": [
    {
     "data": {
      "text/plain": [
       "(3, 27)"
      ]
     },
     "execution_count": 120,
     "metadata": {},
     "output_type": "execute_result"
    }
   ],
   "source": [
    "log.coef_.shape\n",
    "# coef= pd.Series(model.coef_[i:i+1].flatten(), index=X.columns)\n",
    "#     coef['intercept']= model.intercept_[0]"
   ]
  },
  {
   "cell_type": "code",
   "execution_count": 125,
   "metadata": {},
   "outputs": [
    {
     "data": {
      "text/plain": [
       "<AxesSubplot:>"
      ]
     },
     "execution_count": 125,
     "metadata": {},
     "output_type": "execute_result"
    },
    {
     "data": {
      "image/png": "[encoded data removed]",
      "text/plain": [
       "<Figure size 432x288 with 1 Axes>"
      ]
     },
     "metadata": {
      "needs_background": "light"
     },
     "output_type": "display_data"
    }
   ],
   "source": [
    "# regression coefficients\n",
    "# since each obesity level had to be compared with the level below it to see how each\n",
    "# independent variables affect them, 'i' was added \n",
    "def get_coef(model, X, i=0):\n",
    "    df=pd.DataFrame()\n",
    "    coef= pd.Series(model.coef_[i:i+1].flatten(), index=X.columns)#, name=f'Series{i,i+1}')\n",
    "#     coef['intercept']= model.intercept_[0]\n",
    "    return coef.sort_values(ascending=True)\n",
    "coef0 = get_coef(log, X_train_ohe, 0)\n",
    "coef1 = get_coef(log, X_train_ohe, 1)\n",
    "coef2 = get_coef(log, X_train_ohe, 2)\n",
    "\n",
    "\n",
    "coef2.plot(kind='barh')\n",
    "# log.coef_[6]"
   ]
  },
  {
   "cell_type": "code",
   "execution_count": null,
   "metadata": {},
   "outputs": [],
   "source": [
    "# prediction\n",
    "\n",
    "# y_hat_train = log.predict(X_train_norm)\n",
    "# y_hat_test = log.predict(X_test_norm)\n",
    "\n",
    "# # looking at the residuals for training data :correct 90.2%\n",
    "# resi = np.abs(y_train_le - y_hat_train)\n",
    "# print(f'Training Score: {log.score(X_train_norm, y_train_le)}')\n",
    "# print(pd.Series(resi).value_counts())\n",
    "# print(pd.Series(resi).value_counts(normalize=True))\n"
   ]
  },
  {
   "cell_type": "code",
   "execution_count": null,
   "metadata": {},
   "outputs": [],
   "source": [
    "# residuals for test data correct: 82.9%\n",
    "# resi_test = np.abs(y_test_le - y_hat_test)\n",
    "# print(f'Training Score: {log.score(X_test_norm, y_test_le)}')\n",
    "# print(pd.Series(resi_test).value_counts())\n",
    "# print(pd.Series(resi_test).value_counts(normalize=True))\n"
   ]
  },
  {
   "cell_type": "code",
   "execution_count": null,
   "metadata": {},
   "outputs": [],
   "source": [
    "# obesity2=obesity.copy()\n",
    "# for i, y in enumerate(obesity2):\n",
    "#     if y.startswith('z'):\n",
    "#         obesity2['Obese'][i]=1\n",
    "\n",
    "# y_obese_train=pd.DataFrame([[0,0]]*len(y_train),columns=['Not_Obese', 'Obese'])\n",
    "# for i, y in enumerate(y_train):\n",
    "#     if y.startswith('z'):\n",
    "#         y_obese_train['Obese'][i]=1\n",
    "#     else:\n",
    "#         y_obese_train['Not_Obese'][i]=1\n",
    "\n",
    "# y_obese_test=pd.DataFrame([[0,0]]*len(y_test),columns=[ 'Not_Obese','Obese'])\n",
    "# for i, y in enumerate(y_test):\n",
    "#     if y.startswith('z'):\n",
    "#         y_obese_test['Obese'][i]=1\n",
    "#     else:\n",
    "#         y_obese_test['Not_Obese'][i]=1\n",
    "\n",
    "\n",
    "# y_obese_train=pd.DataFrame([0]*len(y_train),columns=[ 'Obese'])\n",
    "# for i, y in enumerate(y_train):\n",
    "#     if y.startswith('z'):\n",
    "#         y_obese_train['Obese'][i]=1\n",
    "        \n",
    "\n",
    "# y_obese_test=pd.DataFrame([0]*len(y_test),columns=[ 'Obese'])\n",
    "# for i, y in enumerate(y_test):\n",
    "#     if y.startswith('z'):\n",
    "#         y_obese_test['Obese'][i]=1\n",
    "\n",
    "# y_obese=y_obese_train.append(y_obese_test)\n"
   ]
  },
  {
   "cell_type": "code",
   "execution_count": null,
   "metadata": {},
   "outputs": [],
   "source": [
    "# confusion matrix\n",
    "metrics.confusion_matrix(y_test_le, y_hat_test)\n",
    "fig, ax= plt.subplots(figsize=(6,6))\n",
    "metrics.plot_confusion_matrix(log, X_test_norm, y_test_le, cmap='Blues',\n",
    "                             display_labels=list(le.inverse_transform([0, 1, 2, 3, 4, 5, 6])), ax=ax)\n",
    "plt.xticks(rotation=45)\n",
    "plt.show()\n",
    "\n",
    "#our confusion matrix shows that it is much better at predicting the extremes of obesity level.\n",
    "# insufficient weight , obesity type ii and obesity type iii were most accurately predicted\n",
    "# as the obesity level nears the center, ie normal weight, overweight i, overweight ii, and obesity type i; \n",
    "\n",
    "# the accuracy decreases"
   ]
  },
  {
   "cell_type": "code",
   "execution_count": null,
   "metadata": {
    "scrolled": true
   },
   "outputs": [],
   "source": [
    "X0=pd.Series(coef0, index=X_train_norm.columns)\n",
    "X1=pd.Series(coef1, index=X_train_norm.columns)\n",
    "X2=pd.Series(coef2, index=X_train_norm.columns)\n",
    "X3=pd.Series(coef3, index=X_train_norm.columns)\n",
    "X4=pd.Series(coef4, index=X_train_norm.columns)\n",
    "X5=pd.Series(coef5, index=X_train_norm.columns)\n",
    "X6=pd.Series(coef6, index=X_train_norm.columns)\n",
    "X0,X1,X2, X3, X4, X5, X6"
   ]
  },
  {
   "cell_type": "code",
   "execution_count": null,
   "metadata": {
    "scrolled": false
   },
   "outputs": [],
   "source": [
    "odds0=np.exp(coef0)\n",
    "odds1=np.exp(coef1)\n",
    "odds2=np.exp(coef2)\n",
    "odds3=np.exp(coef3)\n",
    "odds4=np.exp(coef4)\n",
    "odds5=np.exp(coef5)\n",
    "odds6=np.exp(coef6)\n",
    "\n",
    "odds0, odds1, odds2, odds3, odds4, odds5, odds6"
   ]
  },
  {
   "cell_type": "code",
   "execution_count": null,
   "metadata": {},
   "outputs": [],
   "source": [
    "# metrics.plot_roc_curve(log, X_test_norm, y_test_le)"
   ]
  },
  {
   "cell_type": "code",
   "execution_count": null,
   "metadata": {},
   "outputs": [],
   "source": [
    "X_norm=X_train_norm.append(X_test_norm)\n",
    "np.array(X_norm).reshape(-1)\n"
   ]
  },
  {
   "cell_type": "code",
   "execution_count": null,
   "metadata": {},
   "outputs": [],
   "source": [
    "y_obese_train.values.reshape(1,-1)"
   ]
  },
  {
   "cell_type": "code",
   "execution_count": null,
   "metadata": {
    "scrolled": true
   },
   "outputs": [],
   "source": [
    "# X_train_norm=sm.add_constant(X_train_norm)\n",
    "# X_train_norm.values.shape()\n",
    "# X_norm=sm.add_constant(X_norm)\n",
    "# X=sm.add_constant(X)\n",
    "# logit=sm.Logit(np.array(y_obese_train.values.reshape(1,-1)), np.asarray(X_norm).reshape(-1,1))\n",
    "# print(logit.fit().summary())"
   ]
  },
  {
   "cell_type": "code",
   "execution_count": null,
   "metadata": {},
   "outputs": [],
   "source": [
    "# classifier = OneVsRestClassifier(svm.SVC(kernel='linear', probability=True))\n",
    "# y_score = classifier.fit(X_train_norm, y_train_le).decision_function(X_test_norm)\n",
    "\n",
    "# # Compute ROC curve and ROC area for each class\n",
    "# fpr = dict()\n",
    "# tpr = dict()\n",
    "# roc_auc = dict()\n",
    "# for i in range(n_classes):\n",
    "#     fpr[i], tpr[i], _ = roc_curve(y_test_le[:, i], y_score[:, i])\n",
    "#     roc_auc[i] = auc(fpr[i], tpr[i])\n",
    "\n",
    "# # Compute micro-average ROC curve and ROC area\n",
    "# fpr[\"micro\"], tpr[\"micro\"], _ = roc_curve(y_test.ravel(), y_score.ravel())\n",
    "# roc_auc[\"micro\"] = auc(fpr[\"micro\"], tpr[\"micro\"])"
   ]
  },
  {
   "cell_type": "code",
   "execution_count": null,
   "metadata": {},
   "outputs": [],
   "source": [
    "# normalizing for scikit learn logistic regression\n",
    "# creating a scaled version of the dataframe \n",
    "# obesity_scaled=pd.DataFrame(X_train_ohe.append(X_test_ohe), columns=X_train_ohe.columns).sort_index()\n",
    "# obesity_scaled.head()\n",
    "\n",
    "# normalization (while it isn't needed for the categorical variables as they are only 0s and 1s, but for age, height, weight)\n",
    "# for i in obesity_scaled.columns:\n",
    "#     obesity_scaled[i] = (obesity_scaled[i] - min(obesity_scaled[i]))/ (max(obesity_scaled[i]) - min(obesity_scaled[i]))\n",
    "# obesity_scaled.head()"
   ]
  }
 ],
 "metadata": {
  "kernelspec": {
   "display_name": "Python 3",
   "language": "python",
   "name": "python3"
  },
  "language_info": {
   "codemirror_mode": {
    "name": "ipython",
    "version": 3
   },
   "file_extension": ".py",
   "mimetype": "text/x-python",
   "name": "python",
   "nbconvert_exporter": "python",
   "pygments_lexer": "ipython3",
   "version": "3.8.5"
  }
 },
 "nbformat": 4,
 "nbformat_minor": 4
}
